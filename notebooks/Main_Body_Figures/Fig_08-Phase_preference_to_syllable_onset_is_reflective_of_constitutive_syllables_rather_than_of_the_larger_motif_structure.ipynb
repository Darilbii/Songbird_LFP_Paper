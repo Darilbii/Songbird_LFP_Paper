{
 "cells": [
  {
   "cell_type": "code",
   "execution_count": 1,
   "metadata": {},
   "outputs": [],
   "source": [
    "%matplotlib inline\n",
    "%load_ext autoreload\n",
    "%config InlineBackend.figure_format = 'retina' # high res plotting\n",
    "import numpy as np\n",
    "import scipy\n",
    "import matplotlib.pyplot as plt\n",
    "import IPython.display as ipd\n",
    "import sys\n"
   ]
  },
  {
   "cell_type": "code",
   "execution_count": 2,
   "metadata": {},
   "outputs": [],
   "source": [
    "from scipy import stats\n",
    "import pandas as pd"
   ]
  },
  {
   "cell_type": "code",
   "execution_count": 3,
   "metadata": {},
   "outputs": [],
   "source": [
    "# Import Seaborn\n",
    "\n",
    "import seaborn as sns\n",
    "# sns.set_style('whitegrid')"
   ]
  },
  {
   "cell_type": "code",
   "execution_count": 4,
   "metadata": {},
   "outputs": [],
   "source": [
    "import matplotlib\n",
    "# plot settings\n",
    "# font = {'family' : 'Bitstream Vera Sans',\n",
    "#         'weight' : 'regular',\n",
    "#         'size'   : 13}\n",
    "font = {'weight' : 'regular',\n",
    "        'size'   : 13}\n",
    "figure = {'figsize' : (20,8)}\n",
    "\n",
    "matplotlib.rc('font', **font)\n",
    "matplotlib.rc('figure', **figure)"
   ]
  },
  {
   "cell_type": "code",
   "execution_count": 5,
   "metadata": {},
   "outputs": [],
   "source": [
    "import sys\n",
    "\n",
    "#file structure for /src\n",
    "package_folder = '/home/debrown/Songbird-LFP-Paper/'\n",
    "sys.path.append(package_folder)"
   ]
  },
  {
   "cell_type": "code",
   "execution_count": 6,
   "metadata": {},
   "outputs": [],
   "source": [
    "# from src.analysis.chunk_channel_dropping_report import make_optimzed_channel_dropping_report\n",
    "from src.analysis.chunk_when_analysis_naive import load_pandas_from_pickle\n",
    "from src.analysis.chunk_syllable_phase_preference_analysis import syllable_phase_preference_path\n",
    "from src.analysis.chunk_when_analysis_naive import all_when_label_instructions, motif_length_dict"
   ]
  },
  {
   "cell_type": "code",
   "execution_count": 7,
   "metadata": {},
   "outputs": [],
   "source": [
    "# Path to saving Figures\n",
    "\n",
    "from src.utils.paths import FIGURES_DIR"
   ]
  },
  {
   "cell_type": "code",
   "execution_count": 8,
   "metadata": {},
   "outputs": [],
   "source": [
    "# Designate the High Yield Days for Each Bird\n",
    "\n",
    "z020_days = ['day-2016-06-03', 'day-2016-06-05']\n",
    "z007_days = ['day-2016-09-10','day-2016-09-11']\n",
    "z017_days = ['day-2016-06-19', 'day-2016-06-21']"
   ]
  },
  {
   "cell_type": "markdown",
   "metadata": {},
   "source": [
    "# Import Results of Syllable Preference Analysis"
   ]
  },
  {
   "cell_type": "markdown",
   "metadata": {},
   "source": [
    "## z020"
   ]
  },
  {
   "cell_type": "code",
   "execution_count": 62,
   "metadata": {},
   "outputs": [
    {
     "name": "stdout",
     "output_type": "stream",
     "text": [
      "Loading from syllable_phase_preference Data to syllable_phase_preference.pckl\n",
      "Loading from syllable_phase_preference Data to syllable_phase_preference.pckl\n"
     ]
    }
   ],
   "source": [
    "z020_bird_id = 'z020'\n",
    "\n",
    "z020_day1 = load_pandas_from_pickle(data_name=\"syllable_phase_preference\", bird_id=z020_bird_id,\n",
    "                                    source=syllable_phase_preference_path, session=z020_days[0], verbose=True)\n",
    "\n",
    "z020_day2 = load_pandas_from_pickle(data_name=\"syllable_phase_preference\", bird_id=z020_bird_id,\n",
    "                                    source=syllable_phase_preference_path, session=z020_days[1], verbose=True)"
   ]
  },
  {
   "cell_type": "code",
   "execution_count": 63,
   "metadata": {},
   "outputs": [],
   "source": [
    "z020_day1['Session'] = \"Day 1\"\n",
    "z020_day2['Session'] = \"Day 2\"\n",
    "\n",
    "full_results_z020 = pd.concat([z020_day1, z020_day2], axis=0)\n"
   ]
  },
  {
   "cell_type": "code",
   "execution_count": 64,
   "metadata": {},
   "outputs": [],
   "source": [
    "z020_when_instruct = all_when_label_instructions[z020_bird_id]"
   ]
  },
  {
   "cell_type": "markdown",
   "metadata": {},
   "source": [
    "## z007"
   ]
  },
  {
   "cell_type": "code",
   "execution_count": 65,
   "metadata": {},
   "outputs": [
    {
     "name": "stdout",
     "output_type": "stream",
     "text": [
      "Loading from syllable_phase_preference Data to syllable_phase_preference.pckl\n",
      "Loading from syllable_phase_preference Data to syllable_phase_preference.pckl\n"
     ]
    }
   ],
   "source": [
    "z007_bird_id = 'z007'\n",
    "\n",
    "z007_day1 = load_pandas_from_pickle(data_name=\"syllable_phase_preference\", bird_id=z007_bird_id,\n",
    "                                    source=syllable_phase_preference_path, session=z007_days[0], verbose=True)\n",
    "\n",
    "z007_day2 = load_pandas_from_pickle(data_name=\"syllable_phase_preference\", bird_id=z007_bird_id,\n",
    "                                    source=syllable_phase_preference_path, session=z007_days[1], verbose=True)"
   ]
  },
  {
   "cell_type": "code",
   "execution_count": 66,
   "metadata": {},
   "outputs": [],
   "source": [
    "z007_day1['Session'] = \"Day 1\"\n",
    "z007_day2['Session'] = \"Day 2\"\n",
    "\n",
    "full_results_z007 = pd.concat([z007_day1, z007_day2], axis=0)"
   ]
  },
  {
   "cell_type": "code",
   "execution_count": 67,
   "metadata": {},
   "outputs": [
    {
     "data": {
      "text/html": [
       "<div>\n",
       "<style scoped>\n",
       "    .dataframe tbody tr th:only-of-type {\n",
       "        vertical-align: middle;\n",
       "    }\n",
       "\n",
       "    .dataframe tbody tr th {\n",
       "        vertical-align: top;\n",
       "    }\n",
       "\n",
       "    .dataframe thead th {\n",
       "        text-align: right;\n",
       "    }\n",
       "</style>\n",
       "<table border=\"1\" class=\"dataframe\">\n",
       "  <thead>\n",
       "    <tr style=\"text-align: right;\">\n",
       "      <th></th>\n",
       "      <th>Difference</th>\n",
       "      <th>Syllable</th>\n",
       "      <th>Session</th>\n",
       "    </tr>\n",
       "  </thead>\n",
       "  <tbody>\n",
       "    <tr>\n",
       "      <td>0</td>\n",
       "      <td>0.047767</td>\n",
       "      <td>2</td>\n",
       "      <td>Day 1</td>\n",
       "    </tr>\n",
       "    <tr>\n",
       "      <td>1</td>\n",
       "      <td>0.082186</td>\n",
       "      <td>2</td>\n",
       "      <td>Day 1</td>\n",
       "    </tr>\n",
       "    <tr>\n",
       "      <td>2</td>\n",
       "      <td>-0.487051</td>\n",
       "      <td>2</td>\n",
       "      <td>Day 1</td>\n",
       "    </tr>\n",
       "    <tr>\n",
       "      <td>3</td>\n",
       "      <td>-0.530432</td>\n",
       "      <td>2</td>\n",
       "      <td>Day 1</td>\n",
       "    </tr>\n",
       "    <tr>\n",
       "      <td>4</td>\n",
       "      <td>0.714326</td>\n",
       "      <td>2</td>\n",
       "      <td>Day 1</td>\n",
       "    </tr>\n",
       "  </tbody>\n",
       "</table>\n",
       "</div>"
      ],
      "text/plain": [
       "   Difference Syllable Session\n",
       "0    0.047767        2   Day 1\n",
       "1    0.082186        2   Day 1\n",
       "2   -0.487051        2   Day 1\n",
       "3   -0.530432        2   Day 1\n",
       "4    0.714326        2   Day 1"
      ]
     },
     "execution_count": 67,
     "metadata": {},
     "output_type": "execute_result"
    }
   ],
   "source": [
    "full_results_z007.head()"
   ]
  },
  {
   "cell_type": "code",
   "execution_count": 68,
   "metadata": {},
   "outputs": [],
   "source": [
    "z007_when_instruct = all_when_label_instructions[z007_bird_id]"
   ]
  },
  {
   "cell_type": "markdown",
   "metadata": {},
   "source": [
    "## z017"
   ]
  },
  {
   "cell_type": "code",
   "execution_count": 69,
   "metadata": {},
   "outputs": [
    {
     "name": "stdout",
     "output_type": "stream",
     "text": [
      "Loading from syllable_phase_preference Data to syllable_phase_preference.pckl\n",
      "Loading from syllable_phase_preference Data to syllable_phase_preference.pckl\n"
     ]
    }
   ],
   "source": [
    "z017_bird_id = 'z017'\n",
    "\n",
    "z017_day1 = load_pandas_from_pickle(data_name=\"syllable_phase_preference\", bird_id=z017_bird_id,\n",
    "                                    source=syllable_phase_preference_path, session=z017_days[0], verbose=True)\n",
    "\n",
    "z017_day2 = load_pandas_from_pickle(data_name=\"syllable_phase_preference\", bird_id=z017_bird_id,\n",
    "                                    source=syllable_phase_preference_path, session=z017_days[1], verbose=True)"
   ]
  },
  {
   "cell_type": "code",
   "execution_count": 70,
   "metadata": {},
   "outputs": [],
   "source": [
    "z017_day1['Session'] = \"Day 1\"\n",
    "z017_day2['Session'] = \"Day 2\"\n",
    "\n",
    "full_results_z017 = pd.concat([z017_day1, z017_day2], axis=0)"
   ]
  },
  {
   "cell_type": "code",
   "execution_count": 71,
   "metadata": {},
   "outputs": [],
   "source": [
    "z017_when_instruct = all_when_label_instructions[z017_bird_id]"
   ]
  },
  {
   "cell_type": "markdown",
   "metadata": {},
   "source": [
    "# Run Statistics on the Results"
   ]
  },
  {
   "cell_type": "code",
   "execution_count": 16,
   "metadata": {},
   "outputs": [
    {
     "data": {
      "text/html": [
       "<div>\n",
       "<style scoped>\n",
       "    .dataframe tbody tr th:only-of-type {\n",
       "        vertical-align: middle;\n",
       "    }\n",
       "\n",
       "    .dataframe tbody tr th {\n",
       "        vertical-align: top;\n",
       "    }\n",
       "\n",
       "    .dataframe thead th {\n",
       "        text-align: right;\n",
       "    }\n",
       "</style>\n",
       "<table border=\"1\" class=\"dataframe\">\n",
       "  <thead>\n",
       "    <tr style=\"text-align: right;\">\n",
       "      <th></th>\n",
       "      <th>Difference</th>\n",
       "      <th>Syllable</th>\n",
       "    </tr>\n",
       "  </thead>\n",
       "  <tbody>\n",
       "    <tr>\n",
       "      <td>0</td>\n",
       "      <td>0.875307</td>\n",
       "      <td>2</td>\n",
       "    </tr>\n",
       "    <tr>\n",
       "      <td>1</td>\n",
       "      <td>-0.071090</td>\n",
       "      <td>2</td>\n",
       "    </tr>\n",
       "    <tr>\n",
       "      <td>2</td>\n",
       "      <td>0.564594</td>\n",
       "      <td>2</td>\n",
       "    </tr>\n",
       "    <tr>\n",
       "      <td>3</td>\n",
       "      <td>0.645277</td>\n",
       "      <td>2</td>\n",
       "    </tr>\n",
       "    <tr>\n",
       "      <td>4</td>\n",
       "      <td>0.054944</td>\n",
       "      <td>2</td>\n",
       "    </tr>\n",
       "  </tbody>\n",
       "</table>\n",
       "</div>"
      ],
      "text/plain": [
       "   Difference Syllable\n",
       "0    0.875307        2\n",
       "1   -0.071090        2\n",
       "2    0.564594        2\n",
       "3    0.645277        2\n",
       "4    0.054944        2"
      ]
     },
     "execution_count": 16,
     "metadata": {},
     "output_type": "execute_result"
    }
   ],
   "source": [
    "z020_day1.head()"
   ]
  },
  {
   "cell_type": "code",
   "execution_count": 19,
   "metadata": {},
   "outputs": [
    {
     "data": {
      "text/plain": [
       "0       0.875307\n",
       "1      -0.071090\n",
       "2       0.564594\n",
       "3       0.645277\n",
       "4       0.054944\n",
       "          ...   \n",
       "1495   -0.028588\n",
       "1496   -0.752724\n",
       "1497    0.706199\n",
       "1498    0.796572\n",
       "1499    5.438706\n",
       "Name: Difference, Length: 1500, dtype: float64"
      ]
     },
     "execution_count": 19,
     "metadata": {},
     "output_type": "execute_result"
    }
   ],
   "source": [
    "z020_day1[z020_day1['Syllable']=='2']['Difference']"
   ]
  },
  {
   "cell_type": "code",
   "execution_count": 26,
   "metadata": {},
   "outputs": [
    {
     "data": {
      "text/plain": [
       "[2, 3, 4]"
      ]
     },
     "execution_count": 26,
     "metadata": {},
     "output_type": "execute_result"
    }
   ],
   "source": [
    "z020_when_instruct"
   ]
  },
  {
   "cell_type": "code",
   "execution_count": null,
   "metadata": {},
   "outputs": [],
   "source": [
    "statistics, p_value = stats.wilcoxon(flat_diff_z_results[5], alternative='greater')"
   ]
  },
  {
   "cell_type": "markdown",
   "metadata": {},
   "source": [
    "## z020"
   ]
  },
  {
   "cell_type": "code",
   "execution_count": 104,
   "metadata": {},
   "outputs": [
    {
     "name": "stdout",
     "output_type": "stream",
     "text": [
      "2.5212842325005314e-126\n",
      "4.4300498172897806e-241\n",
      "1.351372955828812e-75\n"
     ]
    }
   ],
   "source": [
    "the_p_values = []\n",
    "for syll in z020_when_instruct:\n",
    "    statistics, p_value = stats.wilcoxon(z020_day1[z020_day1['Syllable']==str(syll)]['Difference'],\n",
    "                                         alternative='greater')\n",
    "    the_p_values.append(p_value)\n",
    "    print(p_value)"
   ]
  },
  {
   "cell_type": "code",
   "execution_count": 105,
   "metadata": {},
   "outputs": [
    {
     "data": {
      "text/plain": [
       "array([0., 0., 0.])"
      ]
     },
     "execution_count": 105,
     "metadata": {},
     "output_type": "execute_result"
    }
   ],
   "source": [
    "freq_p_values = np.asarray(the_p_values)  # Copy a ndarray of the p_values\n",
    "p_values_ordered = np.sort(the_p_values)\n",
    "p_value_order = np.argsort(freq_p_values)\n",
    "\n",
    "significance = np.zeros(np.shape(freq_p_values))\n",
    "\n",
    "for index, p_value in enumerate(p_values_ordered):\n",
    "    threshold = ((index+1)/len(freq_p_values))*.05\n",
    "    if p_value > threshold:\n",
    "        significance[p_value_order[index]] = 1\n",
    "significance"
   ]
  },
  {
   "cell_type": "code",
   "execution_count": null,
   "metadata": {},
   "outputs": [],
   "source": [
    "# b_h_fdr_result = []\n",
    "# for all_freq_p_values in all_ranked_p_values:\n",
    "#     freq_p_values = np.asarray(all_freq_p_values)  # Copy a ndarray of the p_values\n",
    "#     p_values_ordered = np.sort(all_freq_p_values)\n",
    "#     p_value_order = np.argsort(freq_p_values)\n",
    "    \n",
    "#     significance = np.zeros(np.shape(freq_p_values))\n",
    "    \n",
    "#     for index, p_value in enumerate(p_values_ordered):\n",
    "#         threshold = ((index+1)/len(freq_p_values))*.05\n",
    "#         if p_value > threshold:\n",
    "#             significance[p_value_order[index]] = 1\n",
    "#     b_h_fdr_result.append(significance)            \n",
    "\n",
    "# b_h_fdr_result"
   ]
  },
  {
   "cell_type": "code",
   "execution_count": 106,
   "metadata": {},
   "outputs": [
    {
     "name": "stdout",
     "output_type": "stream",
     "text": [
      "3.5528384829632006e-59\n",
      "5.647303937879909e-134\n",
      "2.079947584832586e-27\n"
     ]
    }
   ],
   "source": [
    "the_p_values = []\n",
    "\n",
    "for syll in z020_when_instruct:\n",
    "    statistics, p_value = stats.wilcoxon(z020_day2[z020_day2['Syllable']==str(syll)]['Difference'],\n",
    "                                         alternative='greater')\n",
    "    the_p_values.append(p_value)\n",
    "    print(p_value)"
   ]
  },
  {
   "cell_type": "code",
   "execution_count": 107,
   "metadata": {},
   "outputs": [
    {
     "data": {
      "text/plain": [
       "array([0., 0., 0.])"
      ]
     },
     "execution_count": 107,
     "metadata": {},
     "output_type": "execute_result"
    }
   ],
   "source": [
    "freq_p_values = np.asarray(the_p_values)  # Copy a ndarray of the p_values\n",
    "p_values_ordered = np.sort(the_p_values)\n",
    "p_value_order = np.argsort(freq_p_values)\n",
    "\n",
    "significance = np.zeros(np.shape(freq_p_values))\n",
    "\n",
    "for index, p_value in enumerate(p_values_ordered):\n",
    "    threshold = ((index+1)/len(freq_p_values))*.05\n",
    "    if p_value > threshold:\n",
    "        significance[p_value_order[index]] = 1\n",
    "significance"
   ]
  },
  {
   "cell_type": "markdown",
   "metadata": {},
   "source": [
    "## z007"
   ]
  },
  {
   "cell_type": "code",
   "execution_count": 108,
   "metadata": {},
   "outputs": [
    {
     "name": "stdout",
     "output_type": "stream",
     "text": [
      "0.0\n",
      "0.0\n",
      "0.0\n",
      "0.0\n"
     ]
    }
   ],
   "source": [
    "the_p_values = []\n",
    "\n",
    "for syll in z007_when_instruct:\n",
    "    statistics, p_value = stats.wilcoxon(z007_day1[z007_day1['Syllable']==str(syll)]['Difference'],\n",
    "                                         alternative='greater')\n",
    "    the_p_values.append(p_value)\n",
    "    print(p_value)"
   ]
  },
  {
   "cell_type": "code",
   "execution_count": 109,
   "metadata": {},
   "outputs": [
    {
     "data": {
      "text/plain": [
       "array([0., 0., 0., 0.])"
      ]
     },
     "execution_count": 109,
     "metadata": {},
     "output_type": "execute_result"
    }
   ],
   "source": [
    "freq_p_values = np.asarray(the_p_values)  # Copy a ndarray of the p_values\n",
    "p_values_ordered = np.sort(the_p_values)\n",
    "p_value_order = np.argsort(freq_p_values)\n",
    "\n",
    "significance = np.zeros(np.shape(freq_p_values))\n",
    "\n",
    "for index, p_value in enumerate(p_values_ordered):\n",
    "    threshold = ((index+1)/len(freq_p_values))*.05\n",
    "    if p_value > threshold:\n",
    "        significance[p_value_order[index]] = 1\n",
    "significance"
   ]
  },
  {
   "cell_type": "code",
   "execution_count": 110,
   "metadata": {},
   "outputs": [
    {
     "name": "stdout",
     "output_type": "stream",
     "text": [
      "0.0\n",
      "1.020071217274611e-296\n",
      "0.0\n",
      "0.0\n"
     ]
    }
   ],
   "source": [
    "the_p_values = []\n",
    "\n",
    "for syll in z007_when_instruct:\n",
    "    statistics, p_value = stats.wilcoxon(z007_day2[z007_day2['Syllable']==str(syll)]['Difference'],\n",
    "                                         alternative='greater')\n",
    "    the_p_values.append(p_value)\n",
    "    print(p_value)"
   ]
  },
  {
   "cell_type": "code",
   "execution_count": 111,
   "metadata": {},
   "outputs": [
    {
     "data": {
      "text/plain": [
       "array([0., 0., 0., 0.])"
      ]
     },
     "execution_count": 111,
     "metadata": {},
     "output_type": "execute_result"
    }
   ],
   "source": [
    "freq_p_values = np.asarray(the_p_values)  # Copy a ndarray of the p_values\n",
    "p_values_ordered = np.sort(the_p_values)\n",
    "p_value_order = np.argsort(freq_p_values)\n",
    "\n",
    "significance = np.zeros(np.shape(freq_p_values))\n",
    "\n",
    "for index, p_value in enumerate(p_values_ordered):\n",
    "    threshold = ((index+1)/len(freq_p_values))*.05\n",
    "    if p_value > threshold:\n",
    "        significance[p_value_order[index]] = 1\n",
    "significance"
   ]
  },
  {
   "cell_type": "markdown",
   "metadata": {},
   "source": [
    "## z017"
   ]
  },
  {
   "cell_type": "code",
   "execution_count": 112,
   "metadata": {},
   "outputs": [
    {
     "name": "stdout",
     "output_type": "stream",
     "text": [
      "0.6086730322309217\n",
      "6.0260236216623074e-133\n",
      "8.357741338395573e-170\n",
      "2.8405037123901744e-215\n",
      "2.723964707474389e-209\n",
      "7.096776331889615e-206\n"
     ]
    }
   ],
   "source": [
    "the_p_values = []\n",
    "\n",
    "for syll in z017_when_instruct:\n",
    "    statistics, p_value = stats.wilcoxon(z017_day1[z017_day1['Syllable']==str(syll)]['Difference'],\n",
    "                                         alternative='greater')\n",
    "    the_p_values.append(p_value)\n",
    "    print(p_value)"
   ]
  },
  {
   "cell_type": "code",
   "execution_count": 113,
   "metadata": {},
   "outputs": [
    {
     "data": {
      "text/plain": [
       "array([1., 0., 0., 0., 0., 0.])"
      ]
     },
     "execution_count": 113,
     "metadata": {},
     "output_type": "execute_result"
    }
   ],
   "source": [
    "freq_p_values = np.asarray(the_p_values)  # Copy a ndarray of the p_values\n",
    "p_values_ordered = np.sort(the_p_values)\n",
    "p_value_order = np.argsort(freq_p_values)\n",
    "\n",
    "significance = np.zeros(np.shape(freq_p_values))\n",
    "\n",
    "for index, p_value in enumerate(p_values_ordered):\n",
    "    threshold = ((index+1)/len(freq_p_values))*.05\n",
    "    if p_value > threshold:\n",
    "        significance[p_value_order[index]] = 1\n",
    "significance"
   ]
  },
  {
   "cell_type": "code",
   "execution_count": 114,
   "metadata": {},
   "outputs": [
    {
     "name": "stdout",
     "output_type": "stream",
     "text": [
      "7.188487139821597e-21\n",
      "7.953096236540912e-39\n",
      "5.500412214811038e-84\n",
      "1.9563965720316916e-157\n",
      "1.893190347345355e-101\n",
      "1.1888234804421595e-103\n"
     ]
    }
   ],
   "source": [
    "the_p_values = []\n",
    "\n",
    "for syll in z017_when_instruct:\n",
    "    statistics, p_value = stats.wilcoxon(z017_day2[z017_day2['Syllable']==str(syll)]['Difference'],\n",
    "                                         alternative='greater')\n",
    "    the_p_values.append(p_value)\n",
    "    print(p_value)"
   ]
  },
  {
   "cell_type": "code",
   "execution_count": 115,
   "metadata": {},
   "outputs": [
    {
     "data": {
      "text/plain": [
       "array([0., 0., 0., 0., 0., 0.])"
      ]
     },
     "execution_count": 115,
     "metadata": {},
     "output_type": "execute_result"
    }
   ],
   "source": [
    "freq_p_values = np.asarray(the_p_values)  # Copy a ndarray of the p_values\n",
    "p_values_ordered = np.sort(the_p_values)\n",
    "p_value_order = np.argsort(freq_p_values)\n",
    "\n",
    "significance = np.zeros(np.shape(freq_p_values))\n",
    "\n",
    "for index, p_value in enumerate(p_values_ordered):\n",
    "    threshold = ((index+1)/len(freq_p_values))*.05\n",
    "    if p_value > threshold:\n",
    "        significance[p_value_order[index]] = 1\n",
    "significance"
   ]
  },
  {
   "cell_type": "markdown",
   "metadata": {},
   "source": [
    "# Make Summary Figure"
   ]
  },
  {
   "cell_type": "code",
   "execution_count": null,
   "metadata": {},
   "outputs": [],
   "source": [
    "# [left, bottom, width, height]"
   ]
  },
  {
   "cell_type": "code",
   "execution_count": 81,
   "metadata": {},
   "outputs": [
    {
     "data": {
      "text/plain": [
       "0.235294"
      ]
     },
     "execution_count": 81,
     "metadata": {},
     "output_type": "execute_result"
    }
   ],
   "source": [
    "0.117647 *2"
   ]
  },
  {
   "cell_type": "code",
   "execution_count": 98,
   "metadata": {},
   "outputs": [
    {
     "data": {
      "image/png": "[encoded data removed]",
      "text/plain": [
       "<Figure size 2550x2100 with 3 Axes>"
      ]
     },
     "metadata": {
      "image/png": {
       "height": 721,
       "width": 2334
      },
      "needs_background": "light"
     },
     "output_type": "display_data"
    }
   ],
   "source": [
    "fig = plt.figure(figsize=(8.5, 7), dpi = 300)\n",
    "\n",
    "syll_colors= ['#B66DFF', '#db6e00', '#009292', '#924900', '#006DDB', '#FFFF6D', 'white', '#B6DBFF' , '#490092']\n",
    "\n",
    "line_width = .5\n",
    "subsize = 8\n",
    "bigsize = 12\n",
    "ticksize = 8\n",
    "\n",
    "\n",
    "z007_ax = fig.add_axes([0.05882, 0.392839, 0.235294, 0.2857]) \n",
    "\n",
    "z020_ax = fig.add_axes([0.367634, 0.392839, 0.235294, 0.2857]) # z017\n",
    "\n",
    "z017_ax = fig.add_axes([0.676448, 0.392839, 0.235294, 0.2857])\n",
    "\n",
    "# z007\n",
    "# Day 1\n",
    "## Box Plot\n",
    "sns.boxplot(x='Session', y= 'Difference', hue=\"Syllable\", \n",
    "            hue_order= ['2', '3', '4', '5'],\n",
    "            data= full_results_z007,\n",
    "            order=['Day 1','Day 2'],\n",
    "            palette = syll_colors,\n",
    "            fliersize=line_width, \n",
    "            linewidth=line_width,\n",
    "            ax=z007_ax)\n",
    "\n",
    "z007_ax.set_ylim(-60, 140)\n",
    "\n",
    "\n",
    "z007_ax.set_ylabel('Time Relative to True Onset (ms)')\n",
    "z007_ax.tick_params(axis='both', which='major', labelsize=ticksize)\n",
    "# ax1.set_xticklabels([])\n",
    "# syll_2_1.set_yticklabels([])\n",
    "z007_ax.xaxis.label.set_visible(False)\n",
    "z007_ax.yaxis.label.set_visible(False)\n",
    "\n",
    "# overall_legend = syll_2_1.get_legend()\n",
    "z007_ax.legend('',frameon=False)\n",
    "\n",
    "# z007\n",
    "# Day 1\n",
    "## Box Plot\n",
    "sns.boxplot(x='Session', y= 'Difference', hue=\"Syllable\", \n",
    "            hue_order= ['2', '3', '4'],\n",
    "            data= full_results_z020,\n",
    "            order=['Day 1','Day 2'],\n",
    "            palette = syll_colors,\n",
    "            fliersize=line_width, \n",
    "            linewidth=line_width,\n",
    "            ax=z020_ax)\n",
    "\n",
    "z020_ax.set_ylim(-60, 140)\n",
    "\n",
    "\n",
    "z020_ax.set_ylabel('Time Relative to True Onset (ms)')\n",
    "z020_ax.tick_params(axis='both', which='major', labelsize=ticksize)\n",
    "# ax1.set_xticklabels([])\n",
    "# syll_2_1.set_yticklabels([])\n",
    "z020_ax.xaxis.label.set_visible(False)\n",
    "z020_ax.yaxis.label.set_visible(False)\n",
    "# z020_ax.set_yticklabels([])\n",
    "\n",
    "\n",
    "# overall_legend = syll_2_1.get_legend()\n",
    "z020_ax.legend('',frameon=False)\n",
    "\n",
    "# z017\n",
    "# Day 1\n",
    "## Box Plot\n",
    "sns.boxplot(x='Session', y= 'Difference', hue=\"Syllable\", \n",
    "            hue_order= ['2', '3', '4', '5', '6', '7'],\n",
    "            data= full_results_z017,\n",
    "            order=['Day 1','Day 2'],\n",
    "            palette = syll_colors,\n",
    "            fliersize=line_width, \n",
    "            linewidth=line_width,\n",
    "            ax=z017_ax)\n",
    "\n",
    "z017_ax.set_ylim(-60, 140)\n",
    "\n",
    "\n",
    "z017_ax.set_ylabel('Time Relative to True Onset (ms)')\n",
    "z017_ax.tick_params(axis='both', which='major', labelsize=ticksize)\n",
    "# ax1.set_xticklabels([])\n",
    "# syll_2_1.set_yticklabels([])\n",
    "z017_ax.xaxis.label.set_visible(False)\n",
    "z017_ax.yaxis.label.set_visible(False)\n",
    "# z017_ax.set_yticklabels([])\n",
    "\n",
    "\n",
    "# overall_legend = syll_2_1.get_legend()\n",
    "z017_ax.legend('',frameon=False)\n",
    "\n",
    "# Save the Figure\n",
    "figure_name = 'Syllable_Phase_Preference' + '_Supplement_cb.svg'\n",
    "figure_type_folder = FIGURES_DIR / 'Syllable_Phase_Preference'\n",
    "\n",
    "# Check if Folder Path Exists\n",
    "if not figure_type_folder.exists():\n",
    "    figure_type_folder.mkdir(parents=True, exist_ok=True)\n",
    "\n",
    "figure_location = figure_type_folder / figure_name\n",
    "\n",
    "# fig.savefig(figure_location, format='png')\n",
    "fig.savefig(figure_location, dpi=300, papertype=None, format='svg')\n",
    "\n",
    "\n",
    "\n",
    "\n",
    "\n",
    "plt.show()\n"
   ]
  }
 ],
 "metadata": {
  "kernelspec": {
   "display_name": "Py 3.7 (fooof & mne)",
   "language": "python",
   "name": "fooof"
  },
  "language_info": {
   "codemirror_mode": {
    "name": "ipython",
    "version": 3
   },
   "file_extension": ".py",
   "mimetype": "text/x-python",
   "name": "python",
   "nbconvert_exporter": "python",
   "pygments_lexer": "ipython3",
   "version": "3.7.4"
  }
 },
 "nbformat": 4,
 "nbformat_minor": 2
}
